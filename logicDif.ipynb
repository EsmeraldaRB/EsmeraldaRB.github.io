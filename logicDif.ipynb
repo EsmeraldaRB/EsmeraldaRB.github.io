{
  "nbformat": 4,
  "nbformat_minor": 0,
  "metadata": {
    "colab": {
      "name": "logicDif.ipynb",
      "provenance": [],
      "authorship_tag": "ABX9TyPnioAJ1GNt6mRB9x+iEcQl",
      "include_colab_link": true
    },
    "kernelspec": {
      "name": "python3",
      "display_name": "Python 3"
    }
  },
  "cells": [
    {
      "cell_type": "markdown",
      "metadata": {
        "id": "view-in-github",
        "colab_type": "text"
      },
      "source": [
        "<a href=\"https://colab.research.google.com/github/EsmeraldaRB/EsmeraldaRB.github.io/blob/master/logicDif.ipynb\" target=\"_parent\"><img src=\"https://colab.research.google.com/assets/colab-badge.svg\" alt=\"Open In Colab\"/></a>"
      ]
    },
    {
      "cell_type": "code",
      "metadata": {
        "id": "eqAmNmc2Dzxj",
        "colab_type": "code",
        "colab": {}
      },
      "source": [
        "from sklearn import tree"
      ],
      "execution_count": 0,
      "outputs": []
    },
    {
      "cell_type": "code",
      "metadata": {
        "id": "ScTZF7rUE8Km",
        "colab_type": "code",
        "colab": {}
      },
      "source": [
        "clf = tree.DecisionTreeClassifier()"
      ],
      "execution_count": 0,
      "outputs": []
    },
    {
      "cell_type": "code",
      "metadata": {
        "id": "IEmZynt2Er6B",
        "colab_type": "code",
        "colab": {}
      },
      "source": [
        "X = [[181, 80, 29], [177, 70, 29], [160, 60, 25], [154, 54, 25], [166, 65, 27],\n",
        "     [190, 90, 32], [175, 64, 26],\n",
        "     [177, 70, 27], [159, 55, 25], [171, 75, 28], [181, 85, 29]]"
      ],
      "execution_count": 0,
      "outputs": []
    },
    {
      "cell_type": "code",
      "metadata": {
        "id": "p4PaYO-VFgKU",
        "colab_type": "code",
        "colab": {}
      },
      "source": [
        "Y = ['hombre', 'hombre', 'mujer', 'mujer', 'hombre', 'hombre', 'mujer', 'mujer',\n",
        "\n",
        "     'mujer', 'hombre', 'hombre']"
      ],
      "execution_count": 0,
      "outputs": []
    },
    {
      "cell_type": "code",
      "metadata": {
        "id": "qneKf20xFnJg",
        "colab_type": "code",
        "colab": {}
      },
      "source": [
        "clf = clf.fit(X, Y)"
      ],
      "execution_count": 0,
      "outputs": []
    },
    {
      "cell_type": "code",
      "metadata": {
        "id": "ZSLdjR_HD5Mb",
        "colab_type": "code",
        "colab": {}
      },
      "source": [
        "prediction = clf.predict([[160, 84, 26]])"
      ],
      "execution_count": 0,
      "outputs": []
    },
    {
      "cell_type": "code",
      "metadata": {
        "id": "455EPV01HWtN",
        "colab_type": "code",
        "colab": {
          "base_uri": "https://localhost:8080/",
          "height": 34
        },
        "outputId": "da3b8e5d-fc86-4164-c0df-47900e31a361"
      },
      "source": [
        "print(prediction)"
      ],
      "execution_count": 119,
      "outputs": [
        {
          "output_type": "stream",
          "text": [
            "['mujer']\n"
          ],
          "name": "stdout"
        }
      ]
    }
  ]
}